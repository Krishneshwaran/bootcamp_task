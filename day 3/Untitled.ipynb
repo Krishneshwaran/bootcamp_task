{
 "cells": [
  {
   "cell_type": "code",
   "execution_count": null,
   "id": "adffe934-5bb6-4155-abc2-9eb67da130ca",
   "metadata": {},
   "outputs": [],
   "source": []
  }
 ],
 "metadata": {
  "kernelspec": {
   "display_name": "",
   "name": ""
  },
  "language_info": {
   "name": ""
  }
 },
 "nbformat": 4,
 "nbformat_minor": 5
}
