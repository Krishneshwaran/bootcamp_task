{
 "cells": [
  {
   "cell_type": "code",
   "execution_count": 4,
   "id": "9c68d99b-edd0-4f45-be34-b303464b7657",
   "metadata": {},
   "outputs": [
    {
     "name": "stdout",
     "output_type": "stream",
     "text": [
      "R² Score - Linear Regression: 0.8072\n",
      "R² Score - Ridge Regression (α=1.0): 0.8090\n",
      "R² Score - Lasso Regression (α=0.1): 0.8058\n"
     ]
    }
   ],
   "source": [
    "import numpy as np\n",
    "import pandas as pd\n",
    "import matplotlib.pyplot as plt\n",
    "from sklearn.model_selection import train_test_split\n",
    "from sklearn.linear_model import LinearRegression, Ridge, Lasso\n",
    "from sklearn.metrics import r2_score\n",
    "\n",
    "np.random.seed(42)\n",
    "X = 2 * np.random.rand(100, 1)  \n",
    "y = 4 + 3 * X + np.random.randn(100, 1)  \n",
    "\n",
    "df = pd.DataFrame(np.hstack((X, y)), columns=['Predictor', 'Outcome'])\n",
    "\n",
    "\n",
    "X_train, X_test, y_train, y_test = train_test_split(df[['Predictor']], df['Outcome'], test_size=0.2, random_state=42)\n",
    "\n",
    "linear_model = LinearRegression()\n",
    "linear_model.fit(X_train, y_train)\n",
    "y_pred = linear_model.predict(X_test)\n",
    "\n",
    "ridge_model = Ridge(alpha=1.0)\n",
    "ridge_model.fit(X_train, y_train)\n",
    "y_ridge_pred = ridge_model.predict(X_test)\n",
    "\n",
    "lasso_model = Lasso(alpha=0.1)\n",
    "lasso_model.fit(X_train, y_train)\n",
    "y_lasso_pred = lasso_model.predict(X_test)\n",
    "\n",
    "r2_linear = r2_score(y_test, y_pred)\n",
    "r2_ridge = r2_score(y_test, y_ridge_pred)\n",
    "r2_lasso = r2_score(y_test, y_lasso_pred)\n",
    "\n",
    "print(f\"R² Score - Linear Regression: {r2_linear:.4f}\")\n",
    "print(f\"R² Score - Ridge Regression (α=1.0): {r2_ridge:.4f}\")\n",
    "print(f\"R² Score - Lasso Regression (α=0.1): {r2_lasso:.4f}\")\n"
   ]
  },
  {
   "cell_type": "code",
   "execution_count": null,
   "id": "d23580f4-e1a3-41cc-b6d7-71d72baa3187",
   "metadata": {},
   "outputs": [],
   "source": []
  }
 ],
 "metadata": {
  "kernelspec": {
   "display_name": "Python 3",
   "language": "python",
   "name": "python3"
  },
  "language_info": {
   "codemirror_mode": {
    "name": "ipython",
    "version": 3
   },
   "file_extension": ".py",
   "mimetype": "text/x-python",
   "name": "python",
   "nbconvert_exporter": "python",
   "pygments_lexer": "ipython3",
   "version": "3.10.11"
  }
 },
 "nbformat": 4,
 "nbformat_minor": 5
}
